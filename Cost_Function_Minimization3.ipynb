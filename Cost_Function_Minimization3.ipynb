{
 "cells": [
  {
   "cell_type": "markdown",
   "metadata": {},
   "source": [
    "## Cost Function Minimization for Third Order Equation"
   ]
  },
  {
   "cell_type": "markdown",
   "metadata": {},
   "source": [
    "Initially Take X and Y"
   ]
  },
  {
   "cell_type": "code",
   "execution_count": 1,
   "metadata": {},
   "outputs": [
    {
     "name": "stdout",
     "output_type": "stream",
     "text": [
      "[0, 1, 2, 3, 4, 5, 6, 7, 8, 9]\n",
      "[3, 10, 35, 90, 187, 338, 555, 850, 1235, 1722]\n"
     ]
    }
   ],
   "source": [
    "x = [i for i in range(10)]\n",
    "y = [3 + 2*i + 3*(i**2) + 2*(i**3) for  i in range(10)]\n",
    "print(x)\n",
    "print(y)"
   ]
  },
  {
   "cell_type": "code",
   "execution_count": 2,
   "metadata": {},
   "outputs": [],
   "source": [
    "theta0 = [1]\n",
    "theta1 = [1]\n",
    "theta2 = [1]\n",
    "theta3 = [1]"
   ]
  },
  {
   "cell_type": "code",
   "execution_count": 3,
   "metadata": {},
   "outputs": [],
   "source": [
    "def pred_y(theta0, theta1, theta2, theta3, x):\n",
    "    lst = []\n",
    "    for i in x:\n",
    "        lst.append(theta0 + theta1*i + theta2*(i**2) + theta3*(i**3))\n",
    "    return lst"
   ]
  },
  {
   "cell_type": "code",
   "execution_count": 4,
   "metadata": {},
   "outputs": [],
   "source": [
    "def cost_func(pred_y, y):\n",
    "    lst = []\n",
    "    for i in range(len(y)):\n",
    "        lst.append((pred_y[i] - y[i])**2)\n",
    "    total_cost = 0\n",
    "    for cost in lst:\n",
    "        total_cost += cost\n",
    "    return total_cost/(2*len(y))"
   ]
  },
  {
   "cell_type": "code",
   "execution_count": 5,
   "metadata": {},
   "outputs": [],
   "source": [
    "def theta0_params(pred_y, y):\n",
    "    total = 0\n",
    "    for i in range(len(y)):\n",
    "        total += (pred_y[i] - y[i])\n",
    "    return total"
   ]
  },
  {
   "cell_type": "code",
   "execution_count": 6,
   "metadata": {},
   "outputs": [],
   "source": [
    "def theta1_params(pred_y, y, x):\n",
    "    total = 0\n",
    "    for i in range(len(y)):\n",
    "        total += (pred_y[i] - y[i]) * x[i]\n",
    "    return total"
   ]
  },
  {
   "cell_type": "code",
   "execution_count": 7,
   "metadata": {},
   "outputs": [],
   "source": [
    "def theta2_params(pred_y, y, x):\n",
    "    total = 0\n",
    "    for i in range(len(y)):\n",
    "        total += (pred_y[i] - y[i]) * (x[i]**2)\n",
    "    return total"
   ]
  },
  {
   "cell_type": "code",
   "execution_count": 8,
   "metadata": {},
   "outputs": [],
   "source": [
    "def theta3_params(pred_y, y, x):\n",
    "    total = 0\n",
    "    for i in range(len(y)):\n",
    "        total += (pred_y[i] - y[i]) * (x[i]**3)\n",
    "    return total"
   ]
  },
  {
   "cell_type": "code",
   "execution_count": 9,
   "metadata": {},
   "outputs": [],
   "source": [
    "alpha = 0.0001\n",
    "cost = []\n",
    "for i in range(100000):\n",
    "    theta0.append(theta0[-1] - alpha * theta0_params(pred_y(theta0[-1], theta1[-1], theta2[-1], theta3[-1], x), y) / len(y))\n",
    "    theta1.append(theta1[-1] - alpha * theta1_params(pred_y(theta0[-2], theta1[-1], theta2[-1], theta3[-1], x), y, x) / len(y))\n",
    "    theta2.append(theta2[-1] - alpha * theta2_params(pred_y(theta0[-2], theta1[-2], theta2[-1], theta3[-1], x), y, x) / len(y))\n",
    "    theta3.append(theta3[-1] - alpha * theta2_params(pred_y(theta0[-2], theta1[-2], theta2[-2], theta3[-1], x), y, x) / len(y))\n",
    "    cost.append(cost_func(pred_y(theta0[-1], theta1[-1], theta2[-1], theta3[-1], x), y))"
   ]
  },
  {
   "cell_type": "code",
   "execution_count": 10,
   "metadata": {},
   "outputs": [
    {
     "name": "stdout",
     "output_type": "stream",
     "text": [
      "[1.5399788075784802, 10.763763027698113, 36.54593549146415, 91.30528738161138, 187.4606098808746, 337.43069417198865, 553.6343314376883, 848.4903128607084, 1234.4174296237836, 1723.8344729096489]\n",
      "[3, 10, 35, 90, 187, 338, 555, 850, 1235, 1722]\n"
     ]
    }
   ],
   "source": [
    "print(pred_y(theta0[-1], theta1[-1], theta2[-1], theta3[-1], x))\n",
    "print(y)"
   ]
  }
 ],
 "metadata": {
  "kernelspec": {
   "display_name": "Python 3",
   "language": "python",
   "name": "python3"
  },
  "language_info": {
   "codemirror_mode": {
    "name": "ipython",
    "version": 3
   },
   "file_extension": ".py",
   "mimetype": "text/x-python",
   "name": "python",
   "nbconvert_exporter": "python",
   "pygments_lexer": "ipython3",
   "version": "3.8.5"
  }
 },
 "nbformat": 4,
 "nbformat_minor": 4
}
