{
 "cells": [
  {
   "cell_type": "markdown",
   "metadata": {},
   "source": [
    "## Cost Function Minimization using Matrix"
   ]
  },
  {
   "cell_type": "code",
   "execution_count": 1,
   "metadata": {},
   "outputs": [],
   "source": [
    "import numpy as np"
   ]
  },
  {
   "cell_type": "markdown",
   "metadata": {},
   "source": [
    "Assume Values for Features and make the output function."
   ]
  },
  {
   "cell_type": "code",
   "execution_count": 2,
   "metadata": {},
   "outputs": [
    {
     "name": "stdout",
     "output_type": "stream",
     "text": [
      "[  0   1   8  27  64 125 216 343 512 729]\n",
      "[  9  16  25  36  49  64  81 100 121 144]\n",
      "[ 1  3  5  7  9 11 13 15 17 19]\n",
      "[31 34 37 40 43 46 49 52 55 58]\n",
      "[ 120  177  252  351  480  645  852 1107 1416 1785]\n"
     ]
    }
   ],
   "source": [
    "x0 = np.array([i**3 for i in range(10)])\n",
    "x1 = np.array([i**2 for i in range(3,13)])\n",
    "x2 = np.array([i for i in range(1,21,2)])\n",
    "x3 = np.array([i for i in range(31,61,3)])\n",
    "\n",
    "y = x0 + x1*6 + x2*4 + x3*2\n",
    "\n",
    "print(x0)\n",
    "print(x1)\n",
    "print(x2)\n",
    "print(x3)\n",
    "print(y)\n"
   ]
  },
  {
   "cell_type": "markdown",
   "metadata": {},
   "source": [
    "Stack all feature columnwise to make feature matrics."
   ]
  },
  {
   "cell_type": "code",
   "execution_count": 3,
   "metadata": {},
   "outputs": [
    {
     "data": {
      "text/plain": [
       "array([[  0,   9,   1,  31],\n",
       "       [  1,  16,   3,  34],\n",
       "       [  8,  25,   5,  37],\n",
       "       [ 27,  36,   7,  40],\n",
       "       [ 64,  49,   9,  43],\n",
       "       [125,  64,  11,  46],\n",
       "       [216,  81,  13,  49],\n",
       "       [343, 100,  15,  52],\n",
       "       [512, 121,  17,  55],\n",
       "       [729, 144,  19,  58]])"
      ]
     },
     "execution_count": 3,
     "metadata": {},
     "output_type": "execute_result"
    }
   ],
   "source": [
    "x = np.column_stack((x0,x1,x2,x3))\n",
    "x"
   ]
  },
  {
   "cell_type": "markdown",
   "metadata": {},
   "source": [
    "Find the optimum value of Theta Array.\n",
    "theta = (X^T\\*X)^-1 * (X^T\\*Y)"
   ]
  },
  {
   "cell_type": "code",
   "execution_count": 4,
   "metadata": {},
   "outputs": [],
   "source": [
    "theta = np.dot(np.linalg.inv(np.dot(x.transpose(),x)),np.dot(x.transpose(),y))"
   ]
  },
  {
   "cell_type": "markdown",
   "metadata": {},
   "source": [
    "Predict Y from Optimized theta values. Y = theta * X^T"
   ]
  },
  {
   "cell_type": "code",
   "execution_count": 5,
   "metadata": {},
   "outputs": [],
   "source": [
    "pred_y = np.dot(theta.reshape(1,-1), x.transpose())"
   ]
  },
  {
   "cell_type": "code",
   "execution_count": 6,
   "metadata": {},
   "outputs": [
    {
     "name": "stdout",
     "output_type": "stream",
     "text": [
      "[[ 120.  177.  252.  351.  480.  645.  852. 1107. 1416. 1785.]]\n",
      "[ 120  177  252  351  480  645  852 1107 1416 1785]\n"
     ]
    }
   ],
   "source": [
    "print(pred_y)\n",
    "print(y)"
   ]
  }
 ],
 "metadata": {
  "kernelspec": {
   "display_name": "Python 3",
   "language": "python",
   "name": "python3"
  },
  "language_info": {
   "codemirror_mode": {
    "name": "ipython",
    "version": 3
   },
   "file_extension": ".py",
   "mimetype": "text/x-python",
   "name": "python",
   "nbconvert_exporter": "python",
   "pygments_lexer": "ipython3",
   "version": "3.8.5"
  }
 },
 "nbformat": 4,
 "nbformat_minor": 4
}
