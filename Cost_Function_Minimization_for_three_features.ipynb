{
 "cells": [
  {
   "cell_type": "markdown",
   "metadata": {},
   "source": [
    "## Cost Function Minimization for three features given"
   ]
  },
  {
   "cell_type": "markdown",
   "metadata": {},
   "source": [
    "Initially Take X and Y"
   ]
  },
  {
   "cell_type": "code",
   "execution_count": 1,
   "metadata": {},
   "outputs": [
    {
     "name": "stdout",
     "output_type": "stream",
     "text": [
      "[0, 1, 2, 3, 4, 5, 6, 7, 8, 9]\n",
      "[1, 3, 5, 7, 9, 11, 13, 15, 17, 19]\n",
      "[31, 34, 37, 40, 43, 46, 49, 52, 55, 58]\n",
      "[65, 78, 91, 104, 117, 130, 143, 156, 169, 182]\n"
     ]
    }
   ],
   "source": [
    "x = [i for i in range(10)]\n",
    "y = [i for i in range(1,21,2)]\n",
    "z = [i for i in range(31,61,3)]\n",
    "\n",
    "w = [1 + x*3 + y*2 + z*2 for x,y,z in zip(x,y,z)]\n",
    "\n",
    "print(x)\n",
    "print(y)\n",
    "print(z)\n",
    "print(w)"
   ]
  },
  {
   "cell_type": "markdown",
   "metadata": {},
   "source": [
    "Assume theta0, theta1, theta2 and theta3 for initialization"
   ]
  },
  {
   "cell_type": "code",
   "execution_count": 2,
   "metadata": {},
   "outputs": [],
   "source": [
    "theta0 = [1]\n",
    "theta1 = [1]\n",
    "theta2 = [1]\n",
    "theta3 = [1]"
   ]
  },
  {
   "cell_type": "markdown",
   "metadata": {},
   "source": [
    "Write function that can give predicted value of y from given x using \n",
    "      w = theta0 + theta1 * x + theta2 * y + theta3 * z"
   ]
  },
  {
   "cell_type": "code",
   "execution_count": 3,
   "metadata": {},
   "outputs": [],
   "source": [
    "def pred_w(theta0, theta1, theta2, theta3, x, y, z):\n",
    "    lst = []\n",
    "    for i in range(len(x)):\n",
    "        lst.append(theta0 + theta1*x[i] + theta2*y[i] + theta3*z[i])\n",
    "    return lst"
   ]
  },
  {
   "cell_type": "markdown",
   "metadata": {},
   "source": [
    "Define cost function"
   ]
  },
  {
   "cell_type": "code",
   "execution_count": 4,
   "metadata": {},
   "outputs": [],
   "source": [
    "def cost_func(pred_w, w):\n",
    "    lst = []\n",
    "    for i in range(len(w)):\n",
    "        lst.append((pred_w[i] - w[i])**2)\n",
    "    total_cost = 0\n",
    "    for cost in lst:\n",
    "        total_cost += cost\n",
    "    return total_cost/(2*len(w))"
   ]
  },
  {
   "cell_type": "code",
   "execution_count": 5,
   "metadata": {},
   "outputs": [],
   "source": [
    "def theta_params(pred_w, w, x=[1 for i in range(len(w))]):\n",
    "    total = 0\n",
    "    for i in range(len(w)):\n",
    "        total += (pred_w[i] - w[i]) * x[i]\n",
    "    return total"
   ]
  },
  {
   "cell_type": "markdown",
   "metadata": {},
   "source": [
    "Alpha is called learning rate and assumed 0.001"
   ]
  },
  {
   "cell_type": "code",
   "execution_count": 6,
   "metadata": {},
   "outputs": [],
   "source": [
    "alpha = 0.0001\n",
    "cost = []\n",
    "for i in range(20000):\n",
    "    theta0.append(theta0[-1] - alpha * theta_params(pred_w(theta0[-1], theta1[-1], theta2[-1], theta3[-1], x, y, z), w) / len(w))\n",
    "    theta1.append(theta1[-1] - alpha * theta_params(pred_w(theta0[-2], theta1[-1], theta2[-1], theta3[-1], x, y, z), w, x) / len(w))\n",
    "    theta2.append(theta2[-1] - alpha * theta_params(pred_w(theta0[-2], theta1[-2], theta2[-1], theta3[-1], x, y, z), w, y) / len(w))\n",
    "    theta3.append(theta3[-1] - alpha * theta_params(pred_w(theta0[-2], theta1[-2], theta2[-2], theta3[-1], x, y, z), w, z) / len(w))\n",
    "#     cost.append(cost_func(pred_w(theta0[-1], theta1[-1], theta2[-1],theta3[-1], x, y, z), w))"
   ]
  },
  {
   "cell_type": "code",
   "execution_count": 7,
   "metadata": {},
   "outputs": [
    {
     "name": "stdout",
     "output_type": "stream",
     "text": [
      "0.9513125420686683\n",
      "1.8303791788197878\n",
      "2.6120708997081827\n",
      "1.9818263405878787\n"
     ]
    }
   ],
   "source": [
    "print(theta0[-1])\n",
    "print(theta1[-1])\n",
    "print(theta2[-1])\n",
    "print(theta3[-1])"
   ]
  },
  {
   "cell_type": "code",
   "execution_count": 8,
   "metadata": {},
   "outputs": [
    {
     "name": "stdout",
     "output_type": "stream",
     "text": [
      "[65.0000000000011, 78.00000000000088, 91.00000000000067, 104.00000000000045, 117.00000000000026, 130.00000000000003, 142.99999999999983, 155.9999999999996, 168.9999999999994, 181.9999999999992]\n",
      "[65, 78, 91, 104, 117, 130, 143, 156, 169, 182]\n"
     ]
    }
   ],
   "source": [
    "print(pred_w(theta0[-1], theta1[-1], theta2[-1], theta3[-1], x, y, z))\n",
    "print(w)"
   ]
  }
 ],
 "metadata": {
  "kernelspec": {
   "display_name": "Python 3",
   "language": "python",
   "name": "python3"
  },
  "language_info": {
   "codemirror_mode": {
    "name": "ipython",
    "version": 3
   },
   "file_extension": ".py",
   "mimetype": "text/x-python",
   "name": "python",
   "nbconvert_exporter": "python",
   "pygments_lexer": "ipython3",
   "version": "3.8.5"
  }
 },
 "nbformat": 4,
 "nbformat_minor": 4
}
